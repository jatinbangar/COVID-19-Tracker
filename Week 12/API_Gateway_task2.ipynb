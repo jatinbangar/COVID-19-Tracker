{
 "cells": [
  {
   "cell_type": "markdown",
   "id": "mediterranean-factor",
   "metadata": {},
   "source": [
    "#### Delete item from DynamoDB table using API Gateway\n",
    "* Configure the DELETE method.\n",
    "    * Under your API Endpoint Resource putdynamodbdata, create a new DELETE method.\n",
    "    * Select your Resource, Under Actions choose Create Method. Select DELETE method.\n",
    "    * Under Integration Type select AWS Service and select the AWS Service as DynamoDB.\n",
    "    * HTTP Method is POST (Since we need to Pass JSON structured data as request to query the data) with Action Query. Type Action Name as DeleteItem. Paste your APIGatewayToDynamoDBRole ARN and Click Save.\n",
    "    <img src='Action_Query.png' width=700>\n",
    "* Configure the mapping template for DELETE Request.\n",
    "    * Content-type is application/json.\n",
    "    * Generate template.\n",
    "    * Key is going to be the condition item for which we want to delete an item. The key id for which we are going to Delete record is passed as query string parameter. Click Save. Deploy the API.\n",
    "    <img src='Input_Params.png' width=700>\n",
    "* Use Postman tool to invoke the API.\n",
    "    * We have this record with id 4098 in our table. We will delete this record.\n",
    "    <img src='Invoke_API.png' width=700>\n",
    "    * Paste the Invoke URL in front of the DELETE Action.\n",
    "    * Under Headers, enter Content-type as application/json.\n",
    "    * Pass the query string parameter as ?id=4098 along with the URL. Click Send.\n",
    "    <img src='Query_String2.png' width=700>\n",
    "    * The request returns status code 200.\n",
    "    * The record with key id=4098 is deleted\n",
    "    <img src='Item_Explorer.png' width=700>"
   ]
  }
 ],
 "metadata": {
  "kernelspec": {
   "display_name": "Python 3",
   "language": "python",
   "name": "python3"
  },
  "language_info": {
   "codemirror_mode": {
    "name": "ipython",
    "version": 3
   },
   "file_extension": ".py",
   "mimetype": "text/x-python",
   "name": "python",
   "nbconvert_exporter": "python",
   "pygments_lexer": "ipython3",
   "version": "3.9.1"
  }
 },
 "nbformat": 4,
 "nbformat_minor": 5
}
