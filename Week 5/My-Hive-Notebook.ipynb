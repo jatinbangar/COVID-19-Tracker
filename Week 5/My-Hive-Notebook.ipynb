{
 "cells": [
  {
   "cell_type": "code",
   "execution_count": 1,
   "metadata": {},
   "outputs": [
    {
     "name": "stdout",
     "output_type": "stream",
     "text": [
      "Starting Spark application\n"
     ]
    },
    {
     "data": {
      "text/html": [
       "<table>\n",
       "<tr><th>ID</th><th>YARN Application ID</th><th>Kind</th><th>State</th><th>Spark UI</th><th>Driver log</th><th>Current session?</th></tr><tr><td>0</td><td>application_1603578626031_0002</td><td>pyspark</td><td>idle</td><td><a target=\"_blank\" href=\"http://ip-172-31-76-71.ec2.internal:20888/proxy/application_1603578626031_0002/\">Link</a></td><td><a target=\"_blank\" href=\"http://ip-172-31-78-206.ec2.internal:8042/node/containerlogs/container_1603578626031_0002_01_000001/livy\">Link</a></td><td>✔</td></tr></table>"
      ],
      "text/plain": [
       "<IPython.core.display.HTML object>"
      ]
     },
     "metadata": {},
     "output_type": "display_data"
    },
    {
     "data": {
      "application/vnd.jupyter.widget-view+json": {
       "model_id": "",
       "version_major": 2,
       "version_minor": 0
      },
      "text/plain": [
       "FloatProgress(value=0.0, bar_style='info', description='Progress:', layout=Layout(height='25px', width='50%'),…"
      ]
     },
     "metadata": {},
     "output_type": "display_data"
    },
    {
     "name": "stdout",
     "output_type": "stream",
     "text": [
      "SparkSession available as 'spark'.\n"
     ]
    },
    {
     "data": {
      "application/vnd.jupyter.widget-view+json": {
       "model_id": "",
       "version_major": 2,
       "version_minor": 0
      },
      "text/plain": [
       "FloatProgress(value=0.0, bar_style='info', description='Progress:', layout=Layout(height='25px', width='50%'),…"
      ]
     },
     "metadata": {},
     "output_type": "display_data"
    },
    {
     "name": "stdout",
     "output_type": "stream",
     "text": [
      "<class 'pyspark.sql.session.SparkSession'>"
     ]
    }
   ],
   "source": [
    "type(spark)"
   ]
  },
  {
   "cell_type": "code",
   "execution_count": 2,
   "metadata": {},
   "outputs": [
    {
     "data": {
      "application/vnd.jupyter.widget-view+json": {
       "model_id": "",
       "version_major": 2,
       "version_minor": 0
      },
      "text/plain": [
       "FloatProgress(value=0.0, bar_style='info', description='Progress:', layout=Layout(height='25px', width='50%'),…"
      ]
     },
     "metadata": {},
     "output_type": "display_data"
    }
   ],
   "source": [
    "phi_df = spark. \\\n",
    "    read. \\\n",
    "    format(\"csv\"). \\\n",
    "    option(\"inferSchema\",\"true\"). \\\n",
    "    option(\"header\", \"true\"). \\\n",
    "    load('s3://covid-19-tracker-2020/data/phi_CA.csv')"
   ]
  },
  {
   "cell_type": "code",
   "execution_count": 3,
   "metadata": {},
   "outputs": [
    {
     "data": {
      "application/vnd.jupyter.widget-view+json": {
       "model_id": "",
       "version_major": 2,
       "version_minor": 0
      },
      "text/plain": [
       "FloatProgress(value=0.0, bar_style='info', description='Progress:', layout=Layout(height='25px', width='50%'),…"
      ]
     },
     "metadata": {},
     "output_type": "display_data"
    }
   ],
   "source": [
    "jh_df = spark. \\\n",
    "    read. \\\n",
    "    format(\"csv\"). \\\n",
    "    schema(\"jh_Date date, jh_Country string, jh_Province string, jh_Lat double, jh_Long double, jh_Confirmed integer, \\\n",
    "            jh_Recovered integer, jh_Deaths integer\"). \\\n",
    "    option(\"header\", \"true\"). \\\n",
    "    load('s3://covid-19-tracker-2020/data/john_hopkins.csv')"
   ]
  },
  {
   "cell_type": "code",
   "execution_count": 4,
   "metadata": {},
   "outputs": [
    {
     "data": {
      "application/vnd.jupyter.widget-view+json": {
       "model_id": "",
       "version_major": 2,
       "version_minor": 0
      },
      "text/plain": [
       "FloatProgress(value=0.0, bar_style='info', description='Progress:', layout=Layout(height='25px', width='50%'),…"
      ]
     },
     "metadata": {},
     "output_type": "display_data"
    }
   ],
   "source": [
    "phi_df1 = phi_df.select(phi_df.date.alias('phi_Date'), \\\n",
    "                        phi_df.prname.alias('phi_Province'), \\\n",
    "                        phi_df.numconf.alias('phi_Confirmed'), \\\n",
    "                        phi_df.numdeaths.alias('phi_Deaths') \\\n",
    "                       ). \\\n",
    "                 orderBy('phi_Province', 'phi_Confirmed', 'phi_Date')"
   ]
  },
  {
   "cell_type": "code",
   "execution_count": 5,
   "metadata": {},
   "outputs": [
    {
     "data": {
      "application/vnd.jupyter.widget-view+json": {
       "model_id": "",
       "version_major": 2,
       "version_minor": 0
      },
      "text/plain": [
       "FloatProgress(value=0.0, bar_style='info', description='Progress:', layout=Layout(height='25px', width='50%'),…"
      ]
     },
     "metadata": {},
     "output_type": "display_data"
    }
   ],
   "source": [
    "from pyspark.sql.functions import date_format, to_date"
   ]
  },
  {
   "cell_type": "code",
   "execution_count": 6,
   "metadata": {},
   "outputs": [
    {
     "data": {
      "application/vnd.jupyter.widget-view+json": {
       "model_id": "",
       "version_major": 2,
       "version_minor": 0
      },
      "text/plain": [
       "FloatProgress(value=0.0, bar_style='info', description='Progress:', layout=Layout(height='25px', width='50%'),…"
      ]
     },
     "metadata": {},
     "output_type": "display_data"
    },
    {
     "name": "stdout",
     "output_type": "stream",
     "text": [
      "+----------+------------+-------------+----------+\n",
      "|  phi_Date|phi_Province|phi_Confirmed|phi_Deaths|\n",
      "+----------+------------+-------------+----------+\n",
      "|2020-03-08|     Alberta|            1|         0|\n",
      "|2020-03-09|     Alberta|            7|         0|\n",
      "|2020-03-11|     Alberta|           14|         0|\n",
      "|2020-03-12|     Alberta|           19|         0|\n",
      "|2020-03-13|     Alberta|           23|         0|\n",
      "|2020-03-14|     Alberta|           29|         0|\n",
      "|2020-03-15|     Alberta|           39|         0|\n",
      "|2020-03-16|     Alberta|           56|         0|\n",
      "|2020-03-17|     Alberta|           74|         0|\n",
      "|2020-03-18|     Alberta|           97|         0|\n",
      "|2020-03-19|     Alberta|          146|         1|\n",
      "|2020-03-20|     Alberta|          195|         1|\n",
      "|2020-03-21|     Alberta|          226|         1|\n",
      "|2020-03-22|     Alberta|          259|         1|\n",
      "|2020-03-23|     Alberta|          301|         1|\n",
      "|2020-03-24|     Alberta|          358|         2|\n",
      "|2020-03-25|     Alberta|          419|         2|\n",
      "|2020-03-26|     Alberta|          486|         2|\n",
      "|2020-03-27|     Alberta|          542|         2|\n",
      "|2020-03-28|     Alberta|          542|         2|\n",
      "+----------+------------+-------------+----------+\n",
      "only showing top 20 rows"
     ]
    }
   ],
   "source": [
    "phi_df2 = phi_df1.withColumn(\"phi_Date\", date_format(to_date(phi_df1.phi_Date, \"dd-MM-yyyy\"), \"yyyy-MM-dd\"))\n",
    "phi_df2.show()"
   ]
  },
  {
   "cell_type": "code",
   "execution_count": 7,
   "metadata": {},
   "outputs": [
    {
     "data": {
      "application/vnd.jupyter.widget-view+json": {
       "model_id": "",
       "version_major": 2,
       "version_minor": 0
      },
      "text/plain": [
       "FloatProgress(value=0.0, bar_style='info', description='Progress:', layout=Layout(height='25px', width='50%'),…"
      ]
     },
     "metadata": {},
     "output_type": "display_data"
    },
    {
     "name": "stdout",
     "output_type": "stream",
     "text": [
      "root\n",
      " |-- phi_Date: string (nullable = true)\n",
      " |-- phi_Province: string (nullable = true)\n",
      " |-- phi_Confirmed: integer (nullable = true)\n",
      " |-- phi_Deaths: integer (nullable = true)"
     ]
    }
   ],
   "source": [
    "phi_df2.printSchema()"
   ]
  },
  {
   "cell_type": "code",
   "execution_count": 8,
   "metadata": {},
   "outputs": [
    {
     "data": {
      "application/vnd.jupyter.widget-view+json": {
       "model_id": "",
       "version_major": 2,
       "version_minor": 0
      },
      "text/plain": [
       "FloatProgress(value=0.0, bar_style='info', description='Progress:', layout=Layout(height='25px', width='50%'),…"
      ]
     },
     "metadata": {},
     "output_type": "display_data"
    }
   ],
   "source": [
    "jh_df1 = jh_df.filter(jh_df.jh_Country == 'Canada')"
   ]
  },
  {
   "cell_type": "code",
   "execution_count": 9,
   "metadata": {},
   "outputs": [
    {
     "data": {
      "application/vnd.jupyter.widget-view+json": {
       "model_id": "",
       "version_major": 2,
       "version_minor": 0
      },
      "text/plain": [
       "FloatProgress(value=0.0, bar_style='info', description='Progress:', layout=Layout(height='25px', width='50%'),…"
      ]
     },
     "metadata": {},
     "output_type": "display_data"
    }
   ],
   "source": [
    "phi_df3 = phi_df2.where(\"phi_Province NOT IN ('Nunavut', 'Repatriated travellers', 'Canada')\")"
   ]
  },
  {
   "cell_type": "code",
   "execution_count": 10,
   "metadata": {},
   "outputs": [
    {
     "data": {
      "application/vnd.jupyter.widget-view+json": {
       "model_id": "",
       "version_major": 2,
       "version_minor": 0
      },
      "text/plain": [
       "FloatProgress(value=0.0, bar_style='info', description='Progress:', layout=Layout(height='25px', width='50%'),…"
      ]
     },
     "metadata": {},
     "output_type": "display_data"
    }
   ],
   "source": [
    "jh_df2 = jh_df1.where(\"jh_Province NOT IN ('Grand Princess', 'Diamond Princess')\")"
   ]
  },
  {
   "cell_type": "code",
   "execution_count": 20,
   "metadata": {},
   "outputs": [
    {
     "data": {
      "application/vnd.jupyter.widget-view+json": {
       "model_id": "",
       "version_major": 2,
       "version_minor": 0
      },
      "text/plain": [
       "FloatProgress(value=0.0, bar_style='info', description='Progress:', layout=Layout(height='25px', width='50%'),…"
      ]
     },
     "metadata": {},
     "output_type": "display_data"
    },
    {
     "name": "stdout",
     "output_type": "stream",
     "text": [
      "+----------+----------+-----------+-------+---------+------------+------------+---------+\n",
      "|   jh_Date|jh_Country|jh_Province| jh_Lat|  jh_Long|jh_Confirmed|jh_Recovered|jh_Deaths|\n",
      "+----------+----------+-----------+-------+---------+------------+------------+---------+\n",
      "|2020-01-22|    Canada|    Alberta|53.9333|-116.5765|           0|        null|        0|\n",
      "|2020-01-23|    Canada|    Alberta|53.9333|-116.5765|           0|        null|        0|\n",
      "|2020-01-24|    Canada|    Alberta|53.9333|-116.5765|           0|        null|        0|\n",
      "|2020-01-25|    Canada|    Alberta|53.9333|-116.5765|           0|        null|        0|\n",
      "|2020-01-26|    Canada|    Alberta|53.9333|-116.5765|           0|        null|        0|\n",
      "|2020-01-27|    Canada|    Alberta|53.9333|-116.5765|           0|        null|        0|\n",
      "|2020-01-28|    Canada|    Alberta|53.9333|-116.5765|           0|        null|        0|\n",
      "|2020-01-29|    Canada|    Alberta|53.9333|-116.5765|           0|        null|        0|\n",
      "|2020-01-30|    Canada|    Alberta|53.9333|-116.5765|           0|        null|        0|\n",
      "|2020-01-31|    Canada|    Alberta|53.9333|-116.5765|           0|        null|        0|\n",
      "|2020-02-01|    Canada|    Alberta|53.9333|-116.5765|           0|        null|        0|\n",
      "|2020-02-02|    Canada|    Alberta|53.9333|-116.5765|           0|        null|        0|\n",
      "|2020-02-03|    Canada|    Alberta|53.9333|-116.5765|           0|        null|        0|\n",
      "|2020-02-04|    Canada|    Alberta|53.9333|-116.5765|           0|        null|        0|\n",
      "|2020-02-05|    Canada|    Alberta|53.9333|-116.5765|           0|        null|        0|\n",
      "|2020-02-06|    Canada|    Alberta|53.9333|-116.5765|           0|        null|        0|\n",
      "|2020-02-07|    Canada|    Alberta|53.9333|-116.5765|           0|        null|        0|\n",
      "|2020-02-08|    Canada|    Alberta|53.9333|-116.5765|           0|        null|        0|\n",
      "|2020-02-09|    Canada|    Alberta|53.9333|-116.5765|           0|        null|        0|\n",
      "|2020-02-10|    Canada|    Alberta|53.9333|-116.5765|           0|        null|        0|\n",
      "+----------+----------+-----------+-------+---------+------------+------------+---------+\n",
      "only showing top 20 rows"
     ]
    }
   ],
   "source": [
    "jh_df2.show()"
   ]
  },
  {
   "cell_type": "code",
   "execution_count": 11,
   "metadata": {},
   "outputs": [
    {
     "data": {
      "application/vnd.jupyter.widget-view+json": {
       "model_id": "",
       "version_major": 2,
       "version_minor": 0
      },
      "text/plain": [
       "FloatProgress(value=0.0, bar_style='info', description='Progress:', layout=Layout(height='25px', width='50%'),…"
      ]
     },
     "metadata": {},
     "output_type": "display_data"
    },
    {
     "name": "stdout",
     "output_type": "stream",
     "text": [
      "root\n",
      " |-- jh_Date: date (nullable = true)\n",
      " |-- jh_Country: string (nullable = true)\n",
      " |-- jh_Province: string (nullable = true)\n",
      " |-- jh_Lat: double (nullable = true)\n",
      " |-- jh_Long: double (nullable = true)\n",
      " |-- jh_Confirmed: integer (nullable = true)\n",
      " |-- jh_Recovered: integer (nullable = true)\n",
      " |-- jh_Deaths: integer (nullable = true)"
     ]
    }
   ],
   "source": [
    "jh_df2.printSchema()"
   ]
  },
  {
   "cell_type": "code",
   "execution_count": 12,
   "metadata": {},
   "outputs": [
    {
     "data": {
      "application/vnd.jupyter.widget-view+json": {
       "model_id": "",
       "version_major": 2,
       "version_minor": 0
      },
      "text/plain": [
       "FloatProgress(value=0.0, bar_style='info', description='Progress:', layout=Layout(height='25px', width='50%'),…"
      ]
     },
     "metadata": {},
     "output_type": "display_data"
    },
    {
     "name": "stdout",
     "output_type": "stream",
     "text": [
      "root\n",
      " |-- phi_Date: string (nullable = true)\n",
      " |-- phi_Province: string (nullable = true)\n",
      " |-- phi_Confirmed: integer (nullable = true)\n",
      " |-- phi_Deaths: integer (nullable = true)"
     ]
    }
   ],
   "source": [
    "phi_df3.printSchema()"
   ]
  },
  {
   "cell_type": "code",
   "execution_count": 13,
   "metadata": {},
   "outputs": [
    {
     "data": {
      "application/vnd.jupyter.widget-view+json": {
       "model_id": "",
       "version_major": 2,
       "version_minor": 0
      },
      "text/plain": [
       "FloatProgress(value=0.0, bar_style='info', description='Progress:', layout=Layout(height='25px', width='50%'),…"
      ]
     },
     "metadata": {},
     "output_type": "display_data"
    }
   ],
   "source": [
    "dfLeftOuterJoin = phi_df3. \\\n",
    "    join(jh_df2, \\\n",
    "         (phi_df3.phi_Date == jh_df2.jh_Date) & (phi_df3.phi_Province == jh_df2.jh_Province), \\\n",
    "         'left' \\\n",
    "        )"
   ]
  },
  {
   "cell_type": "code",
   "execution_count": 38,
   "metadata": {},
   "outputs": [
    {
     "data": {
      "application/vnd.jupyter.widget-view+json": {
       "model_id": "",
       "version_major": 2,
       "version_minor": 0
      },
      "text/plain": [
       "FloatProgress(value=0.0, bar_style='info', description='Progress:', layout=Layout(height='25px', width='50%'),…"
      ]
     },
     "metadata": {},
     "output_type": "display_data"
    }
   ],
   "source": [
    "df_Final = dfLeftOuterJoin.select(dfLeftOuterJoin.phi_Date.alias('Date'), \\\n",
    "                                  dfLeftOuterJoin.jh_Country.alias('Country'), \\\n",
    "                                  dfLeftOuterJoin.phi_Province.alias('Province'), \\\n",
    "                                  dfLeftOuterJoin.jh_Lat.alias('Latitude'), \\\n",
    "                                  dfLeftOuterJoin.jh_Long.alias('Longitude'), \\\n",
    "                                  dfLeftOuterJoin.phi_Confirmed.alias('Confirmed'), \\\n",
    "                                  dfLeftOuterJoin.jh_Recovered.alias('Recovered'), \\\n",
    "                                  dfLeftOuterJoin.jh_Deaths.alias('Deaths') \\\n",
    "                                 ). \\\n",
    "                            orderBy('Province', 'Confirmed', 'Date')"
   ]
  },
  {
   "cell_type": "code",
   "execution_count": 39,
   "metadata": {},
   "outputs": [
    {
     "data": {
      "application/vnd.jupyter.widget-view+json": {
       "model_id": "",
       "version_major": 2,
       "version_minor": 0
      },
      "text/plain": [
       "FloatProgress(value=0.0, bar_style='info', description='Progress:', layout=Layout(height='25px', width='50%'),…"
      ]
     },
     "metadata": {},
     "output_type": "display_data"
    },
    {
     "name": "stdout",
     "output_type": "stream",
     "text": [
      "+----------+-------+--------+--------+---------+---------+---------+------+\n",
      "|      Date|Country|Province|Latitude|Longitude|Confirmed|Recovered|Deaths|\n",
      "+----------+-------+--------+--------+---------+---------+---------+------+\n",
      "|2020-03-08| Canada| Alberta| 53.9333|-116.5765|        1|     null|     0|\n",
      "|2020-03-09| Canada| Alberta| 53.9333|-116.5765|        7|     null|     0|\n",
      "|2020-03-11| Canada| Alberta| 53.9333|-116.5765|       14|     null|     0|\n",
      "|2020-03-12| Canada| Alberta| 53.9333|-116.5765|       19|     null|     0|\n",
      "|2020-03-13| Canada| Alberta| 53.9333|-116.5765|       23|     null|     0|\n",
      "|2020-03-14| Canada| Alberta| 53.9333|-116.5765|       29|     null|     0|\n",
      "|2020-03-15| Canada| Alberta| 53.9333|-116.5765|       39|     null|     0|\n",
      "|2020-03-16| Canada| Alberta| 53.9333|-116.5765|       56|     null|     0|\n",
      "|2020-03-17| Canada| Alberta| 53.9333|-116.5765|       74|     null|     0|\n",
      "|2020-03-18| Canada| Alberta| 53.9333|-116.5765|       97|     null|     0|\n",
      "|2020-03-19| Canada| Alberta| 53.9333|-116.5765|      146|     null|     0|\n",
      "|2020-03-20| Canada| Alberta| 53.9333|-116.5765|      195|     null|     1|\n",
      "|2020-03-21| Canada| Alberta| 53.9333|-116.5765|      226|     null|     1|\n",
      "|2020-03-22| Canada| Alberta| 53.9333|-116.5765|      259|     null|     1|\n",
      "|2020-03-23| Canada| Alberta| 53.9333|-116.5765|      301|     null|     1|\n",
      "|2020-03-24| Canada| Alberta| 53.9333|-116.5765|      358|     null|     1|\n",
      "|2020-03-25| Canada| Alberta| 53.9333|-116.5765|      419|     null|     2|\n",
      "|2020-03-26| Canada| Alberta| 53.9333|-116.5765|      486|     null|     2|\n",
      "|2020-03-27| Canada| Alberta| 53.9333|-116.5765|      542|     null|     2|\n",
      "|2020-03-28| Canada| Alberta| 53.9333|-116.5765|      542|     null|     2|\n",
      "+----------+-------+--------+--------+---------+---------+---------+------+\n",
      "only showing top 20 rows"
     ]
    }
   ],
   "source": [
    "df_Final.show()"
   ]
  },
  {
   "cell_type": "code",
   "execution_count": 40,
   "metadata": {},
   "outputs": [
    {
     "data": {
      "application/vnd.jupyter.widget-view+json": {
       "model_id": "",
       "version_major": 2,
       "version_minor": 0
      },
      "text/plain": [
       "FloatProgress(value=0.0, bar_style='info', description='Progress:', layout=Layout(height='25px', width='50%'),…"
      ]
     },
     "metadata": {},
     "output_type": "display_data"
    }
   ],
   "source": [
    "df_Final.registerTempTable('hive_temp')"
   ]
  },
  {
   "cell_type": "code",
   "execution_count": 41,
   "metadata": {},
   "outputs": [
    {
     "data": {
      "application/vnd.jupyter.widget-view+json": {
       "model_id": "",
       "version_major": 2,
       "version_minor": 0
      },
      "text/plain": [
       "FloatProgress(value=0.0, bar_style='info', description='Progress:', layout=Layout(height='25px', width='50%'),…"
      ]
     },
     "metadata": {},
     "output_type": "display_data"
    },
    {
     "name": "stdout",
     "output_type": "stream",
     "text": [
      "+----------+-------+--------+--------+---------+---------+---------+------+\n",
      "|      Date|Country|Province|Latitude|Longitude|Confirmed|Recovered|Deaths|\n",
      "+----------+-------+--------+--------+---------+---------+---------+------+\n",
      "|2020-03-08| Canada| Alberta| 53.9333|-116.5765|        1|     null|     0|\n",
      "|2020-03-09| Canada| Alberta| 53.9333|-116.5765|        7|     null|     0|\n",
      "|2020-03-11| Canada| Alberta| 53.9333|-116.5765|       14|     null|     0|\n",
      "|2020-03-12| Canada| Alberta| 53.9333|-116.5765|       19|     null|     0|\n",
      "|2020-03-13| Canada| Alberta| 53.9333|-116.5765|       23|     null|     0|\n",
      "|2020-03-14| Canada| Alberta| 53.9333|-116.5765|       29|     null|     0|\n",
      "|2020-03-15| Canada| Alberta| 53.9333|-116.5765|       39|     null|     0|\n",
      "|2020-03-16| Canada| Alberta| 53.9333|-116.5765|       56|     null|     0|\n",
      "|2020-03-17| Canada| Alberta| 53.9333|-116.5765|       74|     null|     0|\n",
      "|2020-03-18| Canada| Alberta| 53.9333|-116.5765|       97|     null|     0|\n",
      "|2020-03-19| Canada| Alberta| 53.9333|-116.5765|      146|     null|     0|\n",
      "|2020-03-20| Canada| Alberta| 53.9333|-116.5765|      195|     null|     1|\n",
      "|2020-03-21| Canada| Alberta| 53.9333|-116.5765|      226|     null|     1|\n",
      "|2020-03-22| Canada| Alberta| 53.9333|-116.5765|      259|     null|     1|\n",
      "|2020-03-23| Canada| Alberta| 53.9333|-116.5765|      301|     null|     1|\n",
      "|2020-03-24| Canada| Alberta| 53.9333|-116.5765|      358|     null|     1|\n",
      "|2020-03-25| Canada| Alberta| 53.9333|-116.5765|      419|     null|     2|\n",
      "|2020-03-26| Canada| Alberta| 53.9333|-116.5765|      486|     null|     2|\n",
      "|2020-03-27| Canada| Alberta| 53.9333|-116.5765|      542|     null|     2|\n",
      "|2020-03-28| Canada| Alberta| 53.9333|-116.5765|      542|     null|     2|\n",
      "+----------+-------+--------+--------+---------+---------+---------+------+\n",
      "only showing top 20 rows"
     ]
    }
   ],
   "source": [
    "spark.sql('select* from hive_temp').show()"
   ]
  },
  {
   "cell_type": "code",
   "execution_count": 70,
   "metadata": {},
   "outputs": [
    {
     "data": {
      "application/vnd.jupyter.widget-view+json": {
       "model_id": "",
       "version_major": 2,
       "version_minor": 0
      },
      "text/plain": [
       "FloatProgress(value=0.0, bar_style='info', description='Progress:', layout=Layout(height='25px', width='50%'),…"
      ]
     },
     "metadata": {},
     "output_type": "display_data"
    },
    {
     "name": "stdout",
     "output_type": "stream",
     "text": [
      "DataFrame[]"
     ]
    }
   ],
   "source": [
    "spark.sql('DROP TABLE IF EXISTS hive_table')\n",
    "spark.sql('CREATE TABLE hive_table (FinalDate string, Country string, Province string, Latitude double, Longitude double, \\\n",
    "           Confirmed int, Recovered int, Deaths int) \\\n",
    "           USING CSV OPTIONS (path \"s3://covid-19-tracker-2020/hive/tables/hive-table.csv\", header \"true\")')"
   ]
  },
  {
   "cell_type": "code",
   "execution_count": 71,
   "metadata": {},
   "outputs": [
    {
     "data": {
      "application/vnd.jupyter.widget-view+json": {
       "model_id": "",
       "version_major": 2,
       "version_minor": 0
      },
      "text/plain": [
       "FloatProgress(value=0.0, bar_style='info', description='Progress:', layout=Layout(height='25px', width='50%'),…"
      ]
     },
     "metadata": {},
     "output_type": "display_data"
    },
    {
     "name": "stdout",
     "output_type": "stream",
     "text": [
      "+---------+---------+-------+\n",
      "| col_name|data_type|comment|\n",
      "+---------+---------+-------+\n",
      "|FinalDate|   string|   null|\n",
      "|  Country|   string|   null|\n",
      "| Province|   string|   null|\n",
      "| Latitude|   double|   null|\n",
      "|Longitude|   double|   null|\n",
      "|Confirmed|      int|   null|\n",
      "|Recovered|      int|   null|\n",
      "|   Deaths|      int|   null|\n",
      "+---------+---------+-------+"
     ]
    }
   ],
   "source": [
    "spark.sql('DESCRIBE hive_table').show()"
   ]
  },
  {
   "cell_type": "code",
   "execution_count": 74,
   "metadata": {},
   "outputs": [
    {
     "data": {
      "application/vnd.jupyter.widget-view+json": {
       "model_id": "",
       "version_major": 2,
       "version_minor": 0
      },
      "text/plain": [
       "FloatProgress(value=0.0, bar_style='info', description='Progress:', layout=Layout(height='25px', width='50%'),…"
      ]
     },
     "metadata": {},
     "output_type": "display_data"
    },
    {
     "name": "stdout",
     "output_type": "stream",
     "text": [
      "DataFrame[]"
     ]
    }
   ],
   "source": [
    "spark.sql('INSERT INTO hive_table SELECT* FROM hive_temp')"
   ]
  },
  {
   "cell_type": "code",
   "execution_count": 73,
   "metadata": {},
   "outputs": [
    {
     "data": {
      "application/vnd.jupyter.widget-view+json": {
       "model_id": "",
       "version_major": 2,
       "version_minor": 0
      },
      "text/plain": [
       "FloatProgress(value=0.0, bar_style='info', description='Progress:', layout=Layout(height='25px', width='50%'),…"
      ]
     },
     "metadata": {},
     "output_type": "display_data"
    },
    {
     "name": "stdout",
     "output_type": "stream",
     "text": [
      "+----------+-------+----------------+--------+---------+---------+---------+------+\n",
      "| FinalDate|Country|        Province|Latitude|Longitude|Confirmed|Recovered|Deaths|\n",
      "+----------+-------+----------------+--------+---------+---------+---------+------+\n",
      "|2020-01-31| Canada|         Ontario| 51.2538| -85.3232|        3|     null|     0|\n",
      "|2020-01-31| Canada|British Columbia| 53.7267|-127.6476|        1|     null|     0|\n",
      "|2020-02-08| Canada|         Ontario| 51.2538| -85.3232|        3|     null|     0|\n",
      "|2020-02-08| Canada|British Columbia| 53.7267|-127.6476|        4|     null|     0|\n",
      "|2020-02-16| Canada|         Ontario| 51.2538| -85.3232|        3|     null|     0|\n",
      "|2020-02-16| Canada|British Columbia| 53.7267|-127.6476|        5|     null|     0|\n",
      "|2020-02-21| Canada|         Ontario| 51.2538| -85.3232|        3|     null|     0|\n",
      "|2020-02-21| Canada|British Columbia| 53.7267|-127.6476|        6|     null|     0|\n",
      "|2020-02-24| Canada|         Ontario| 51.2538| -85.3232|        4|     null|     0|\n",
      "|2020-02-24| Canada|British Columbia| 53.7267|-127.6476|        6|     null|     0|\n",
      "|2020-02-25| Canada|         Ontario| 51.2538| -85.3232|        4|     null|     0|\n",
      "|2020-02-25| Canada|British Columbia| 53.7267|-127.6476|        7|     null|     0|\n",
      "|2020-02-26| Canada|         Ontario| 51.2538| -85.3232|        5|     null|     0|\n",
      "|2020-02-26| Canada|British Columbia| 53.7267|-127.6476|        7|     null|     0|\n",
      "|2020-02-27| Canada|         Ontario| 51.2538| -85.3232|        6|     null|     0|\n",
      "|2020-02-27| Canada|British Columbia| 53.7267|-127.6476|        7|     null|     0|\n",
      "|2020-02-29| Canada|         Ontario| 51.2538| -85.3232|        8|     null|     0|\n",
      "|2020-02-29| Canada|British Columbia| 53.7267|-127.6476|        7|     null|     0|\n",
      "|2020-03-01| Canada|         Ontario| 51.2538| -85.3232|       15|     null|     0|\n",
      "|2020-03-01| Canada|British Columbia| 53.7267|-127.6476|        8|     null|     0|\n",
      "+----------+-------+----------------+--------+---------+---------+---------+------+\n",
      "only showing top 20 rows"
     ]
    }
   ],
   "source": [
    "spark.sql('SELECT* FROM hive_table').show()"
   ]
  }
 ],
 "metadata": {
  "kernelspec": {
   "display_name": "PySpark",
   "language": "",
   "name": "pysparkkernel"
  },
  "language_info": {
   "codemirror_mode": {
    "name": "python",
    "version": 3
   },
   "mimetype": "text/x-python",
   "name": "pyspark",
   "pygments_lexer": "python3"
  }
 },
 "nbformat": 4,
 "nbformat_minor": 4
}
