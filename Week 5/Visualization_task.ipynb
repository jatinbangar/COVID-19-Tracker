{
 "cells": [
  {
   "cell_type": "markdown",
   "id": "sonic-village",
   "metadata": {},
   "source": [
    "#### Amazon EMR Hadoop Hive configuration\n",
    "* Download and Install the ODBC driver AmazonHiveODB.\n",
    "* Drivers can be downloaded from the below page:\n",
    "    * https://docs.aws.amazon.com/emr/latest/ManagementGuide/emr-bi-tools.html\n",
    "* Download the Hive ODBC – 2.6.9.1009.\n",
    "* After installation go to ODBC Data Source Administrator program and check that the System DSN contains Sample Amazon Hive DSN.\n",
    "<img src=\"ODBC.png\" width=\"700\">"
   ]
  },
  {
   "cell_type": "markdown",
   "id": "substantial-antenna",
   "metadata": {},
   "source": [
    "#### Provision an AWS EMR Cluster using the following CLI command\n",
    "* Use the below CLI code to provision a new CLI cluster\n",
    "<code>\n",
    "aws emr create-cluster --name My-Hive-Cluster --use-default-roles --release-label emr-6.1.0 --instance-count 3 --instance-type m5a.xlarge --applications Name=Hadoop Name=JupyterHub Name=Hive Name=Spark --ec2-attributes KeyName=My-Cluster-KP --log-uri s3://covid-19-tracker-2020/logs/\n",
    "</code>\n",
    "<img src=\"cli.png\" width=\"700\">\n",
    "* Configure access to JupyterHub and Hive from your IP address\n",
    "    * For your master node security group create an Inbound Rule to ALLOW access to port 10000 (Hive) and 9443 (JupyterHub) from your IP address\n",
    "    <img src=\"Inbound-Rule.png\" width=\"700\">"
   ]
  },
  {
   "cell_type": "markdown",
   "id": "accessible-islam",
   "metadata": {},
   "source": [
    "#### Hive Configuration on JupyterHub notebook\n",
    "* Go to JupyterHub and create a new Notebook. My notebook name is My-Hive-Notebook.\n",
    "* Write script for our Spark Application in the notebook.\n",
    "* We will modify our script a little to create Hive tables from our dataframes.\n",
    "* Using our final combined dataset df_Final for Canadas COVID-19 statistics, Register a Temp Table.\n",
    "<code>\n",
    "df_Final.registerTempTable('hive_temp')\n",
    "</code>\n",
    "Temp Table – Temp Table is a temporary Hive table for performing SQL like queries on our dataframe using SparkSQL. This table gets deleted when we terminate our cluster.\n",
    "<img src=\"Notebook.png\" width=\"700\">\n",
    "* Create physical table from the temporary table.\n",
    "<code>\n",
    "spark.sql('DROP TABLE IF EXISTS hive_table')\n",
    "spark.sql('CREATE TABLE hive_table (Date string, Country string, Province string, Latitude double, Longitude double, Confirmed int, Recovered int, Deaths int) USING CSV OPTIONS (path \"s3://covid-19-tracker-2020/hive/tables/hive-table.csv\", header \"true\")')\n",
    "</code>\n",
    "<img src=\"Physical_Table.png\" width=\"700\">\n",
    "* Insert the temporary table records into the Hive physical table.\n",
    "<code>\n",
    "spark.sql('INSERT INTO hive_table (SELECT* FROM hive_temp)')\n",
    "</code>\n",
    "<img src=\"Insert_Records.png\" width=\"700\">"
   ]
  },
  {
   "cell_type": "markdown",
   "id": "efficient-kruger",
   "metadata": {},
   "source": [
    "#### Tableau Setup for EMR Hadoop Hive as Data Source\n",
    "* Launch Tableau Desktop Professional and while choosing data source choose Amazon EMR Hadoop Hive.\n",
    "* In server configuration, enter your EMR master node DNS as the Server address and Port as 10000 (Hive). Set username to hive. Click Sign In.\n",
    "<img src=\"Hive_Server.png\" width=\"700\">\n",
    "* Choose the default schema and drag and drop hive_table to your data source.\n",
    "<img src=\"Hive_Table.png\" width=\"700\">"
   ]
  },
  {
   "cell_type": "markdown",
   "id": "sunset-porter",
   "metadata": {},
   "source": [
    "#### Tableau Dashboard for COVID-19\n",
    "* Map of number of Confirmed Cases.\n",
    "    * Drag the Latitude and Longitude Dimensions into rows and columns and it generates a map of Canada.\n",
    "    * Drag the measure Confirmed on the Mark Size. This displays the extent of cases for each Province.\n",
    "    <img src=\"Confirmed_Map.png\" width=\"700\">\n",
    "* Graph of number of Confirmed Cases.\n",
    "    * Drag the Date Dimension into Columns and Click the Dimension and Select Day.\n",
    "    * Drag the Confirmed Measure into Rows.\n",
    "    * Under Marks, Choose the Line type to be Bar.\n",
    "    <img src=\"Confirmed_Bar.png\" width=\"700\">\n",
    "* Graph of number of Confirmed Deaths.\n",
    "    * Drag the Date Dimension into Columns and Click the Dimension and Select Day.\n",
    "    * Drag the Deaths Measure into Rows.\n",
    "    * Under Marks, Choose the Line type to be Bar.\n",
    "    <img src=\"Deaths_Bar.png\" width=\"700\">\n",
    "* Confirmed Cases by Province.\n",
    "    * Drag the Confirmed Measure into Columns.\n",
    "    * Drag the Province Dimension into Rows.\n",
    "    * Drag the Confirmed Measure into both Color and Label Mark. Sort Province by Descending.\n",
    "    <img src=\"Confirmed_Measure.png\" width=\"700\">\n",
    "* Confirmed Deaths by Province.\n",
    "    * Drag the Deaths Measure into Columns.\n",
    "    * Drag the Province Dimension into Rows.\n",
    "    * Drag the Deaths Measure into both Color and Label Mark. Sort Province by Descending.\n",
    "    <img src=\"Deaths_Measure.png\" width=\"700\">\n",
    "* Add a Label for Confirmed Cases till date.\n",
    "    * Drag Confirmed Measure into Text Mark.\n",
    "    * Click on Text and Edit the Label to change the Font and Color.\n",
    "    * Right Click on Title and Click on Hide Title.\n",
    "    <img src=\"Confirmed_Label.png\" width=\"700\">\n",
    "* Add a Label for Deaths till date.\n",
    "    * Drag Deaths Measure into Text Mark.\n",
    "    * Click on Text and Edit the Label to change the Font and Color.\n",
    "    * Right Click on Title and Click on Hide Title.\n",
    "    <img src=\"Deaths_Label.png\" width=\"700\">\n",
    "* Create Dashboard\n",
    "    * Under Dashboard, Click on New Dashboard.\n",
    "    * Drag each Sheet into the Dashboard Container and Resize.\n",
    "    * Click on Container for each Sheet and Click on Hide Label.\n",
    "    * To insert a Text Label for Each container, Drag the Object Text into the Dashboard for each Sheet.\n",
    "    * Export this Dashboard as an Image.\n",
    "    <img src=\"Dashboard.png\" width=\"700\">"
   ]
  }
 ],
 "metadata": {
  "kernelspec": {
   "display_name": "Python 3",
   "language": "python",
   "name": "python3"
  },
  "language_info": {
   "codemirror_mode": {
    "name": "ipython",
    "version": 3
   },
   "file_extension": ".py",
   "mimetype": "text/x-python",
   "name": "python",
   "nbconvert_exporter": "python",
   "pygments_lexer": "ipython3",
   "version": "3.9.1"
  }
 },
 "nbformat": 4,
 "nbformat_minor": 5
}
