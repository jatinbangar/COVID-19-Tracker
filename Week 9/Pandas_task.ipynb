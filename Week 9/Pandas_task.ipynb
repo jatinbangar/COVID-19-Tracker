{
 "cells": [
  {
   "cell_type": "markdown",
   "id": "loose-award",
   "metadata": {},
   "source": [
    "As part of this task we will deploy pandas package for python to AWS Lambda Layer and use serverless computing power to perform exploratory data analysis on COVID-19 data."
   ]
  },
  {
   "cell_type": "markdown",
   "id": "partial-trance",
   "metadata": {},
   "source": [
    "#### Launch an EC2 Instance and create our pandas package for python 3.8 runtime\n",
    "* Go to EC2 Service and Launch a Linux Instance. I am launching an Ubuntu Server 20.04 Instance.\n",
    "* I am attaching an existing IAM role to this instance which will give permission to access S3 bucket.\n",
    "<img src='Configure_Instance.png' width=700>\n",
    "* Choose default security group and launch the instance.\n",
    "* SSH into your instance. Our Ubuntu 20 Instance has python 3.8 installed by default.\n",
    "<img src='Python_Version.png' width=700>\n",
    "* Make a new directory build/python/lib/python3.8/site-packages for packaging pandas library for runtime python 3.8.\n",
    "* Install pip3 on the instance using command sudo apt install python3-pip.\n",
    "<code>sudo apt install python3-pip</code>\n",
    "<img src='Install_Pip.png' width=700>\n",
    "* Install pandas using command.\n",
    "<code>pip3 install pandas -t build/python/lib/python3.8/site-packages/</code>\n",
    "<img src='Install_Pandas.png' width=700>\n",
    "* Now we will package the build directory into a .zip file to create a pandas package for AWS Lambda.\n",
    "<code>zip -r pandas.zip .</code>\n",
    "* Now upload this zip file into our S3 bucket. We need to install awscli for that purpose.\n",
    "<code>sudo apt-get install awscli</code>\n",
    "* Now copy this package into S3 bucket.\n",
    "<code>aws s3 cp pandas.zip s3://covid-19-tracker-2020/lambda</code>\n",
    "<img src='Copy_To_S3.png' width=700>"
   ]
  },
  {
   "cell_type": "markdown",
   "id": "sudden-voice",
   "metadata": {},
   "source": [
    "#### Deploy our pandas package to AWS Lambda Layer\n",
    "* Under AWS Lambda Service Go to Layers and Click on Create Layer.\n",
    "* Choose name for the Layer and upload your pandas.zip file through S3 link URL. Choose Python 3.8 as Compatible runtime and Click Create.\n",
    "<img src='Create_Layer.png' width=700>\n",
    "* Create a new Lambda Function. Choose runtime as Python 3.8. Choose existing Execution role which we created and then Click on Create Function.\n",
    "<img src='Execution_Role.png' width=700>\n",
    "* Under Layers>Add a Layer Choose your Custom Layer pandas-layer and Choose the most recent version and Click Add.\n",
    "<img src='Add_Layer.png' width=700>\n",
    "* Under our lambda function add the following lines of code to verify if pandas package is integrated into our Lambda Function.\n",
    "<code>\n",
    "import pandas as pd\n",
    "print(pd.__version__)\n",
    "</code>\n",
    "<img src='Lambda_Function.png' width=700>\n",
    "* Create test event and Click on Test. Log output returns the pandas version 1.1.4.\n",
    "<img src='Test_Event.png' width=700>"
   ]
  },
  {
   "cell_type": "markdown",
   "id": "flush-complexity",
   "metadata": {},
   "source": [
    "#### Data analysis using pandas library for Python\n",
    "* Data Ingestion\n",
    "    * Reading data from a csv source.\n",
    "    <code>\n",
    "    data = pd.read_csv('CA__covid19__latest.csv')\n",
    "    data.head()\n",
    "    </code>\n",
    "    <img src='Data_Ingestion.png' width=700>\n",
    "    * shape function is used to derive the dimensions of our dataframe.\n",
    "    <code>print('Number of rows: ',data.shape[0],'\\nNumber of columns: ',data.shape[1])</code>\n",
    "    <img src='Data_Ingestion_2.png' width=700>\n",
    "    <code>data.columns</code>\n",
    "    <img src='Data_Ingestion_3.png' width=700>\n",
    "* Data Cleaning\n",
    "    * The pruid, prnameFR, percentactive columns would not contribute to our analysis. So, we should drop this column.\n",
    "    <code>data.drop(columns=['prnameFR','pruid','percentactive'],inplace=True)</code>\n",
    "    <img src='Data_Cleaning.png' width=700>\n",
    "    <img src='Data_Cleaning_2.png' width=700>\n",
    "    * Our data contains a few Null values.We will replace those Null values with 0.\n",
    "    <img src='Data_Cleaning_3.png' width=700>\n",
    "    <code>\n",
    "    #Fill the NaN values\n",
    "    data.fillna({\n",
    "            'numtested':0,\n",
    "            'numrecover':0,\n",
    "            'numtestedtoday':0,\n",
    "            'numrecoveredtoday':0\n",
    "    }, inplace = True) #fillna for entire dataset\n",
    "    data.head()\n",
    "    </code>\n",
    "    <img src='Data_Cleaning_4.png' width=700>\n",
    "    <img src='Data_Cleaning_5.png' width=700>"
   ]
  },
  {
   "cell_type": "markdown",
   "id": "embedded-rhythm",
   "metadata": {},
   "source": [
    "#### Exploratory data analysis\n",
    "* Find the maximum number of Positive COVID-19 cases in a single day.\n",
    "<code>data['numtoday'].max()</code>\n",
    "<img src='Data_Analysis.png' width=700>\n",
    "* Display the date on which the number of cases were highest.\n",
    "<code>data[:][data['numtoday'] == data['numtoday'].max()]</code>\n",
    "<img src='Data_Analysis_2.png' width=700>\n",
    "* Display the dates for which the confirmed cases were more than 4800.\n",
    "<code>data[data.numtoday>=4800]</code>\n",
    "<img src='Data_Analysis_3.png' width=700>\n",
    "* Grouping of our data by province so we could check COVID-19 statistics for each province.\n",
    "    <code>\n",
    "    g = data.groupby('prname')\n",
    "    g\n",
    "    </code>\n",
    "    This creates a DataFrameGroupBy object g.\n",
    "    * To traverse through this object.\n",
    "    <code>\n",
    "    for province, province_df in g:\n",
    "        print(province)\n",
    "        print(province_df)\n",
    "    </code>\n",
    "* The statistics for each group can be visualized by using matplotlib.\n",
    "<code>\n",
    "import matplotlib.pyplot as plt\n",
    "%matplotlib inline\n",
    "g.plot()\n",
    "</code>\n",
    "<img src='Data_Analysis_4.png' width='700'>\n",
    "* Using the concept of pivot table to show the number of confirmed COVID-19 cases for each province for each date.\n",
    "\n",
    "<b>Pivot table: Pivot table in pandas is used to transform or reshape data. The levels in the pivot table will be stored in MultiIndex objects (hierarchical indexes) on the index and columns of the result DataFrame.</b>\n",
    "\n",
    "<code>data.pivot(index=\"date\", columns=\"prname\", values=[\"numconf\"])</code>\n",
    "<img src='Data_Analysis_5.png' width='700'>"
   ]
  }
 ],
 "metadata": {
  "kernelspec": {
   "display_name": "Python 3",
   "language": "python",
   "name": "python3"
  },
  "language_info": {
   "codemirror_mode": {
    "name": "ipython",
    "version": 3
   },
   "file_extension": ".py",
   "mimetype": "text/x-python",
   "name": "python",
   "nbconvert_exporter": "python",
   "pygments_lexer": "ipython3",
   "version": "3.9.1"
  }
 },
 "nbformat": 4,
 "nbformat_minor": 5
}
